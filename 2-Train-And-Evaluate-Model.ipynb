{
 "cells": [
  {
   "cell_type": "markdown",
   "metadata": {},
   "source": [
    "# Train and evaluate the model\n",
    "\n",
    "Build Deep Learning Regression Model with Sequential API and TF Probability Layers"
   ]
  },
  {
   "cell_type": "code",
   "execution_count": 2,
   "metadata": {},
   "outputs": [],
   "source": [
    "import os\n",
    "import numpy as np\n",
    "import tensorflow as tf\n",
    "tf.get_logger().setLevel('ERROR')\n",
    "from tensorflow.keras import layers\n",
    "import tensorflow_probability as tfp\n",
    "import matplotlib.pyplot as plt\n",
    "import pandas as pd\n",
    "import aequitas as ae\n",
    "\n",
    "from sklearn.metrics import precision_score, recall_score, roc_auc_score, f1_score\n",
    "\n",
    "from utils.utils import build_vocab_files, show_group_stats_viz, aggregate_dataset, preprocess_df, df_to_dataset, posterior_mean_field, prior_trainable\n",
    "pd.set_option('display.max_columns', 500)\n",
    "\n",
    "# this allows to make changes and save in student_utils.py and the file is reloaded every time you run a code block\n",
    "%load_ext autoreload\n",
    "%autoreload"
   ]
  },
  {
   "cell_type": "code",
   "execution_count": 3,
   "metadata": {},
   "outputs": [],
   "source": [
    "# lists copied from the first notebook\n",
    "required_demo_col_list = ['race', 'gender', 'age']\n",
    "ndc_col_list = ['Acarbose', 'Glimepiride', 'Glipizide', 'Glipizide_And_Metformin_Hcl', 'Glipizide_And_Metformin_Hydrochloride', 'Glyburide', 'Glyburide_And_Metformin_Hydrochloride', 'Glyburide-metformin_Hydrochloride', 'Human_Insulin', 'Insulin_Human', 'Metformin_Hcl', 'Metformin_Hydrochloride', 'Miglitol', 'Nateglinide', 'Pioglitazole_And_Metformin_Hydrochloride', 'Pioglitazone', 'Pioglitazone_Hydrochloride_And_Glimepiride', 'Repaglinide', 'Rosiglitazone_Maleate', 'Tolazamide', 'Tolbutamide']\n",
    "student_categorical_col_list = ['max_glu_serum', 'readmitted'] + required_demo_col_list + ndc_col_list\n",
    "student_numerical_col_list = ['number_outpatient', 'number_inpatient', 'number_emergency', 'num_lab_procedures', 'number_diagnoses', 'num_medications', 'num_procedures']\n",
    "PREDICTOR_FIELD = 'time_in_hospital'"
   ]
  },
  {
   "cell_type": "markdown",
   "metadata": {
    "tags": []
   },
   "source": [
    "## Convert Dataset Splits to TF Dataset\n",
    "\n",
    "We have provided you the function to convert the Pandas dataframe to TF tensors using the TF Dataset API. \n",
    "Please note that this is not a scalable method and for larger datasets, the 'make_csv_dataset' method is recommended - https://www.tensorflow.org/api_docs/python/tf/data/experimental/make_csv_dataset."
   ]
  },
  {
   "cell_type": "code",
   "execution_count": 4,
   "metadata": {},
   "outputs": [],
   "source": [
    "# read columns as appropriate types\n",
    "dtype_dict = {k:str for k in  student_categorical_col_list}\n",
    "dtype_dict_num = {k:np.float64 for k in  student_numerical_col_list}\n",
    "\n",
    "dtype_dict.update(dtype_dict_num)"
   ]
  },
  {
   "cell_type": "code",
   "execution_count": 5,
   "metadata": {},
   "outputs": [],
   "source": [
    "d_train = pd.read_csv('data/d_train.csv', dtype=dtype_dict)\n",
    "d_val = pd.read_csv('data/d_val.csv', dtype=dtype_dict)\n",
    "d_test = pd.read_csv('data/d_test.csv', dtype=dtype_dict)"
   ]
  },
  {
   "cell_type": "code",
   "execution_count": 8,
   "metadata": {},
   "outputs": [],
   "source": [
    "# Convert dataset from Pandas dataframes to TF dataset \n",
    "batch_size = 128\n",
    "diabetes_train_ds = df_to_dataset(d_train, PREDICTOR_FIELD, batch_size=batch_size)\n",
    "diabetes_val_ds = df_to_dataset(d_val, PREDICTOR_FIELD, batch_size=batch_size)\n",
    "diabetes_test_ds = df_to_dataset(d_test, PREDICTOR_FIELD, batch_size=batch_size)"
   ]
  },
  {
   "cell_type": "code",
   "execution_count": 9,
   "metadata": {},
   "outputs": [],
   "source": [
    "# We use this sample of the dataset to show transformations later\n",
    "diabetes_batch = next(iter(diabetes_train_ds))[0]\n",
    "def demo(feature_column, example_batch):\n",
    "    feature_layer = layers.DenseFeatures(feature_column)\n",
    "    print(feature_layer(example_batch))"
   ]
  },
  {
   "cell_type": "markdown",
   "metadata": {},
   "source": [
    "## Create Categorical Features with TF Feature Columns\n",
    "\n",
    "### Build Vocabulary for Categorical Features\n",
    "\n",
    "Before we can create the TF categorical features, we must first create the vocab files with the unique values for a given field that are from the **training** dataset. Below we have provided a function that you can use that only requires providing the pandas train dataset partition and the list of the categorical columns in a list format. The output variable 'vocab_file_list' will be a list of the file paths that can be used in the next step for creating the categorical features."
   ]
  },
  {
   "cell_type": "code",
   "execution_count": 10,
   "metadata": {},
   "outputs": [],
   "source": [
    "vocab_file_list = build_vocab_files(d_train, student_categorical_col_list)"
   ]
  },
  {
   "cell_type": "code",
   "execution_count": 11,
   "metadata": {},
   "outputs": [
    {
     "data": {
      "text/plain": [
       "'./data/diabetes_vocab/max_glu_serum_vocab.txt'"
      ]
     },
     "execution_count": 11,
     "metadata": {},
     "output_type": "execute_result"
    }
   ],
   "source": [
    "vocab_file_list[0]"
   ]
  },
  {
   "cell_type": "markdown",
   "metadata": {},
   "source": [
    "### Create Categorical Features with Tensorflow Feature Column API\n",
    "\n",
    "**Question 7**: Using the vocab file list from above that was derived from the features you selected earlier, please create categorical features with the Tensorflow Feature Column API, https://www.tensorflow.org/api_docs/python/tf/feature_column. Below is a function to help guide you."
   ]
  },
  {
   "cell_type": "code",
   "execution_count": 12,
   "metadata": {},
   "outputs": [],
   "source": [
    "from utils.student_utils import create_tf_categorical_feature_cols\n",
    "tf_cat_col_list = create_tf_categorical_feature_cols(student_categorical_col_list)"
   ]
  },
  {
   "cell_type": "code",
   "execution_count": 13,
   "metadata": {
    "tags": []
   },
   "outputs": [
    {
     "name": "stdout",
     "output_type": "stream",
     "text": [
      "Example categorical field:\n",
      "IndicatorColumn(categorical_column=VocabularyFileCategoricalColumn(key='Acarbose', vocabulary_file='./data/diabetes_vocab/Acarbose_vocab.txt', vocabulary_size=3, num_oov_buckets=0, dtype=tf.string, default_value=-1, file_format=None))\n",
      "tf.Tensor(\n",
      "[[0. 1. 0.]\n",
      " [0. 1. 0.]\n",
      " [0. 1. 0.]\n",
      " [0. 1. 0.]\n",
      " [0. 1. 0.]\n",
      " [0. 1. 0.]\n",
      " [0. 1. 0.]\n",
      " [0. 1. 0.]\n",
      " [0. 1. 0.]\n",
      " [0. 1. 0.]\n",
      " [0. 1. 0.]\n",
      " [0. 1. 0.]\n",
      " [0. 1. 0.]\n",
      " [0. 1. 0.]\n",
      " [0. 1. 0.]\n",
      " [0. 1. 0.]\n",
      " [0. 1. 0.]\n",
      " [0. 1. 0.]\n",
      " [0. 1. 0.]\n",
      " [0. 1. 0.]\n",
      " [0. 1. 0.]\n",
      " [0. 1. 0.]\n",
      " [0. 1. 0.]\n",
      " [0. 1. 0.]\n",
      " [0. 1. 0.]\n",
      " [0. 1. 0.]\n",
      " [0. 1. 0.]\n",
      " [0. 1. 0.]\n",
      " [0. 1. 0.]\n",
      " [0. 1. 0.]\n",
      " [0. 1. 0.]\n",
      " [0. 1. 0.]\n",
      " [0. 1. 0.]\n",
      " [0. 1. 0.]\n",
      " [0. 1. 0.]\n",
      " [0. 1. 0.]\n",
      " [0. 1. 0.]\n",
      " [0. 1. 0.]\n",
      " [0. 1. 0.]\n",
      " [0. 1. 0.]\n",
      " [0. 1. 0.]\n",
      " [0. 1. 0.]\n",
      " [0. 1. 0.]\n",
      " [0. 1. 0.]\n",
      " [0. 1. 0.]\n",
      " [0. 1. 0.]\n",
      " [0. 1. 0.]\n",
      " [0. 1. 0.]\n",
      " [0. 1. 0.]\n",
      " [0. 1. 0.]\n",
      " [0. 1. 0.]\n",
      " [0. 1. 0.]\n",
      " [0. 1. 0.]\n",
      " [0. 1. 0.]\n",
      " [0. 1. 0.]\n",
      " [0. 1. 0.]\n",
      " [0. 1. 0.]\n",
      " [0. 1. 0.]\n",
      " [0. 1. 0.]\n",
      " [0. 1. 0.]\n",
      " [0. 1. 0.]\n",
      " [0. 1. 0.]\n",
      " [0. 1. 0.]\n",
      " [0. 1. 0.]\n",
      " [0. 1. 0.]\n",
      " [0. 1. 0.]\n",
      " [0. 1. 0.]\n",
      " [0. 1. 0.]\n",
      " [0. 1. 0.]\n",
      " [0. 1. 0.]\n",
      " [0. 1. 0.]\n",
      " [0. 1. 0.]\n",
      " [0. 1. 0.]\n",
      " [0. 1. 0.]\n",
      " [0. 1. 0.]\n",
      " [0. 1. 0.]\n",
      " [0. 1. 0.]\n",
      " [0. 1. 0.]\n",
      " [0. 1. 0.]\n",
      " [0. 1. 0.]\n",
      " [0. 1. 0.]\n",
      " [0. 1. 0.]\n",
      " [0. 1. 0.]\n",
      " [0. 1. 0.]\n",
      " [0. 1. 0.]\n",
      " [0. 1. 0.]\n",
      " [0. 1. 0.]\n",
      " [0. 1. 0.]\n",
      " [0. 1. 0.]\n",
      " [0. 1. 0.]\n",
      " [0. 1. 0.]\n",
      " [0. 1. 0.]\n",
      " [0. 1. 0.]\n",
      " [0. 1. 0.]\n",
      " [0. 1. 0.]\n",
      " [0. 1. 0.]\n",
      " [0. 1. 0.]\n",
      " [0. 1. 0.]\n",
      " [0. 1. 0.]\n",
      " [0. 1. 0.]\n",
      " [0. 1. 0.]\n",
      " [0. 1. 0.]\n",
      " [0. 1. 0.]\n",
      " [0. 1. 0.]\n",
      " [0. 1. 0.]\n",
      " [0. 1. 0.]\n",
      " [0. 1. 0.]\n",
      " [0. 1. 0.]\n",
      " [0. 1. 0.]\n",
      " [0. 1. 0.]\n",
      " [0. 1. 0.]\n",
      " [0. 1. 0.]\n",
      " [0. 1. 0.]\n",
      " [0. 1. 0.]\n",
      " [0. 1. 0.]\n",
      " [0. 1. 0.]\n",
      " [0. 1. 0.]\n",
      " [0. 1. 0.]\n",
      " [0. 1. 0.]\n",
      " [0. 1. 0.]\n",
      " [0. 1. 0.]\n",
      " [0. 1. 0.]\n",
      " [0. 1. 0.]\n",
      " [0. 1. 0.]\n",
      " [0. 1. 0.]\n",
      " [0. 1. 0.]\n",
      " [0. 1. 0.]\n",
      " [0. 1. 0.]], shape=(128, 3), dtype=float32)\n"
     ]
    }
   ],
   "source": [
    "test_cat_var1 = tf_cat_col_list[5]\n",
    "print(\"Example categorical field:\\n{}\".format(test_cat_var1))\n",
    "demo(test_cat_var1, diabetes_batch)"
   ]
  },
  {
   "cell_type": "markdown",
   "metadata": {},
   "source": [
    "## Create Numerical Features with TF Feature Columns\n",
    "\n",
    "**Question 8**: Using the TF Feature Column API (https://www.tensorflow.org/api_docs/python/tf/feature_column/), please create normalized Tensorflow numeric features for the model. Try to use the z-score normalizer function below to help as well as the 'calculate_stats_from_train_data' function."
   ]
  },
  {
   "cell_type": "code",
   "execution_count": 14,
   "metadata": {},
   "outputs": [],
   "source": [
    "from utils.student_utils import create_tf_numeric_feature"
   ]
  },
  {
   "cell_type": "markdown",
   "metadata": {},
   "source": [
    "For simplicity the create_tf_numerical_feature_cols function below uses the same normalizer function across all features (z-score normalization) but if you have time feel free to analyze and adapt the normalizer based off the statistical distributions. You may find this as a good resource in determining which transformation fits best for the data https://developers.google.com/machine-learning/data-prep/transform/normalization."
   ]
  },
  {
   "cell_type": "code",
   "execution_count": 15,
   "metadata": {},
   "outputs": [],
   "source": [
    "def calculate_stats_from_train_data(df, col):\n",
    "    mean = df[col].describe()['mean']\n",
    "    std = df[col].describe()['std']\n",
    "    return mean, std\n",
    "\n",
    "def create_tf_numerical_feature_cols(numerical_col_list, train_df):\n",
    "    tf_numeric_col_list = []\n",
    "    for c in numerical_col_list:\n",
    "        mean, std = calculate_stats_from_train_data(train_df, c)\n",
    "        tf_numeric_feature = create_tf_numeric_feature(c, mean, std)\n",
    "        tf_numeric_col_list.append(tf_numeric_feature)\n",
    "    return tf_numeric_col_list"
   ]
  },
  {
   "cell_type": "code",
   "execution_count": 16,
   "metadata": {},
   "outputs": [],
   "source": [
    "tf_cont_col_list = create_tf_numerical_feature_cols(student_numerical_col_list, d_train)"
   ]
  },
  {
   "cell_type": "code",
   "execution_count": 17,
   "metadata": {
    "tags": []
   },
   "outputs": [
    {
     "name": "stdout",
     "output_type": "stream",
     "text": [
      "Example continuous field:\n",
      "NumericColumn(key='number_outpatient', shape=(1,), default_value=(0,), dtype=tf.float64, normalizer_fn=functools.partial(<function normalize_numeric_with_zscore at 0x7fbe19bdc9e0>, mean=0.30081059413878086, std=1.122142799284789))\n",
      "\n",
      "tf.Tensor(\n",
      "[[-0.26806802]\n",
      " [-0.26806802]\n",
      " [-0.26806802]\n",
      " [-0.26806802]\n",
      " [-0.26806802]\n",
      " [-0.26806802]\n",
      " [13.990367  ]\n",
      " [-0.26806802]\n",
      " [-0.26806802]\n",
      " [-0.26806802]\n",
      " [-0.26806802]\n",
      " [-0.26806802]\n",
      " [-0.26806802]\n",
      " [-0.26806802]\n",
      " [-0.26806802]\n",
      " [-0.26806802]\n",
      " [-0.26806802]\n",
      " [-0.26806802]\n",
      " [-0.26806802]\n",
      " [-0.26806802]\n",
      " [-0.26806802]\n",
      " [-0.26806802]\n",
      " [-0.26806802]\n",
      " [-0.26806802]\n",
      " [-0.26806802]\n",
      " [ 0.6230842 ]\n",
      " [-0.26806802]\n",
      " [-0.26806802]\n",
      " [-0.26806802]\n",
      " [-0.26806802]\n",
      " [-0.26806802]\n",
      " [-0.26806802]\n",
      " [-0.26806802]\n",
      " [-0.26806802]\n",
      " [ 0.6230842 ]\n",
      " [-0.26806802]\n",
      " [-0.26806802]\n",
      " [-0.26806802]\n",
      " [-0.26806802]\n",
      " [-0.26806802]\n",
      " [-0.26806802]\n",
      " [ 0.6230842 ]\n",
      " [-0.26806802]\n",
      " [-0.26806802]\n",
      " [-0.26806802]\n",
      " [-0.26806802]\n",
      " [-0.26806802]\n",
      " [-0.26806802]\n",
      " [-0.26806802]\n",
      " [-0.26806802]\n",
      " [-0.26806802]\n",
      " [-0.26806802]\n",
      " [-0.26806802]\n",
      " [-0.26806802]\n",
      " [-0.26806802]\n",
      " [ 2.4053886 ]\n",
      " [-0.26806802]\n",
      " [-0.26806802]\n",
      " [-0.26806802]\n",
      " [-0.26806802]\n",
      " [ 1.5142363 ]\n",
      " [ 7.752301  ]\n",
      " [-0.26806802]\n",
      " [-0.26806802]\n",
      " [ 1.5142363 ]\n",
      " [-0.26806802]\n",
      " [-0.26806802]\n",
      " [-0.26806802]\n",
      " [-0.26806802]\n",
      " [-0.26806802]\n",
      " [-0.26806802]\n",
      " [-0.26806802]\n",
      " [-0.26806802]\n",
      " [-0.26806802]\n",
      " [-0.26806802]\n",
      " [-0.26806802]\n",
      " [-0.26806802]\n",
      " [ 2.4053886 ]\n",
      " [-0.26806802]\n",
      " [-0.26806802]\n",
      " [-0.26806802]\n",
      " [-0.26806802]\n",
      " [-0.26806802]\n",
      " [-0.26806802]\n",
      " [-0.26806802]\n",
      " [-0.26806802]\n",
      " [ 0.6230842 ]\n",
      " [-0.26806802]\n",
      " [-0.26806802]\n",
      " [-0.26806802]\n",
      " [-0.26806802]\n",
      " [-0.26806802]\n",
      " [-0.26806802]\n",
      " [-0.26806802]\n",
      " [-0.26806802]\n",
      " [-0.26806802]\n",
      " [-0.26806802]\n",
      " [ 0.6230842 ]\n",
      " [-0.26806802]\n",
      " [-0.26806802]\n",
      " [-0.26806802]\n",
      " [-0.26806802]\n",
      " [-0.26806802]\n",
      " [-0.26806802]\n",
      " [-0.26806802]\n",
      " [ 0.6230842 ]\n",
      " [-0.26806802]\n",
      " [ 2.4053886 ]\n",
      " [-0.26806802]\n",
      " [-0.26806802]\n",
      " [-0.26806802]\n",
      " [-0.26806802]\n",
      " [-0.26806802]\n",
      " [-0.26806802]\n",
      " [ 3.2965407 ]\n",
      " [-0.26806802]\n",
      " [-0.26806802]\n",
      " [-0.26806802]\n",
      " [-0.26806802]\n",
      " [ 1.5142363 ]\n",
      " [-0.26806802]\n",
      " [-0.26806802]\n",
      " [-0.26806802]\n",
      " [-0.26806802]\n",
      " [-0.26806802]\n",
      " [-0.26806802]\n",
      " [ 2.4053886 ]\n",
      " [-0.26806802]], shape=(128, 1), dtype=float32)\n"
     ]
    }
   ],
   "source": [
    "test_cont_var1 = tf_cont_col_list[0]\n",
    "print(\"Example continuous field:\\n{}\\n\".format(test_cont_var1))\n",
    "demo(test_cont_var1, diabetes_batch)"
   ]
  },
  {
   "cell_type": "markdown",
   "metadata": {},
   "source": [
    "## Use DenseFeatures to combine features for model\n",
    "\n",
    "Now that we have prepared categorical and numerical features using Tensorflow's Feature Column API, we can combine them into a dense vector representation for the model. Below we will create this new input layer, which we will call 'claim_feature_layer'."
   ]
  },
  {
   "cell_type": "code",
   "execution_count": 18,
   "metadata": {},
   "outputs": [],
   "source": [
    "claim_feature_columns = tf_cat_col_list + tf_cont_col_list\n",
    "claim_feature_layer = tf.keras.layers.DenseFeatures(claim_feature_columns)"
   ]
  },
  {
   "cell_type": "markdown",
   "metadata": {},
   "source": [
    "## Build Sequential API Model from DenseFeatures and TF Probability Layers\n",
    "\n",
    "Below we have provided some boilerplate code for building a model that connects the Sequential API, DenseFeatures, and Tensorflow Probability layers into a deep learning model. There are many opportunities to further optimize and explore different architectures through benchmarking and testing approaches in various research papers, loss and evaluation metrics, learning curves, hyperparameter tuning, TF probability layers, etc. Feel free to modify and explore as you wish.\n",
    "\n",
    "**OPTIONAL**: Come up with a more optimal neural network architecture and hyperparameters. Share the process in discovering the architecture and hyperparameters."
   ]
  },
  {
   "cell_type": "code",
   "execution_count": 19,
   "metadata": {},
   "outputs": [],
   "source": [
    "def build_sequential_model(feature_layer):\n",
    "    model = tf.keras.Sequential([\n",
    "                    feature_layer,\n",
    "                    tf.keras.layers.Dense(150, activation='relu'),\n",
    "                    tf.keras.layers.Dense(75, activation='relu'),\n",
    "\n",
    "                    tfp.layers.DenseVariational(1+1, posterior_mean_field, prior_trainable),\n",
    "                    tfp.layers.DistributionLambda(lambda t:tfp.distributions.Normal(loc=t[..., :1],\n",
    "                                                  scale=1e-3 + tf.math.softplus(0.01 * t[...,1:])))])\n",
    "    \n",
    "    return model\n",
    "\n",
    "def build_diabetes_model(train_ds, val_ds, feature_layer, epochs=5, loss_metric='mean_squared_error'):\n",
    "    model = build_sequential_model(feature_layer)\n",
    "    model.compile(optimizer='adam', loss=loss_metric, metrics=[loss_metric])\n",
    "    \n",
    "    early_stop = tf.keras.callbacks.EarlyStopping(monitor=loss_metric, patience=5)     \n",
    "    \n",
    "    history = model.fit(train_ds,\n",
    "                        validation_data=val_ds,\n",
    "                        callbacks=[early_stop],\n",
    "                        epochs=epochs)\n",
    "    \n",
    "    plt.figure(figsize=(20,7))\n",
    "    plt.subplot(121)\n",
    "    plt.plot(range(0,epochs), history.history['mean_squared_error'], label='Train')\n",
    "    plt.plot(range(0,epochs), history.history['val_mean_squared_error'], label='Val')\n",
    "    plt.legend()\n",
    "    plt.title('Mean Squared Error')\n",
    "    plt.subplot(122)\n",
    "    plt.plot(range(0,epochs), history.history['loss'], label='Train')\n",
    "    plt.plot(range(0,epochs), history.history['val_loss'], label='Val')\n",
    "    plt.legend()\n",
    "    plt.title('Loss')\n",
    "    \n",
    "    return model, history"
   ]
  },
  {
   "cell_type": "code",
   "execution_count": 20,
   "metadata": {},
   "outputs": [
    {
     "name": "stdout",
     "output_type": "stream",
     "text": [
      "Epoch 1/30\n"
     ]
    },
    {
     "name": "stderr",
     "output_type": "stream",
     "text": [
      "2021-10-11 19:17:47.357883: W tensorflow/python/util/util.cc:348] Sets are not currently considered sequences, but this may change in the future, so consider avoiding using them.\n",
      "2021-10-11 19:17:48.444120: I tensorflow/compiler/mlir/mlir_graph_optimization_pass.cc:185] None of the MLIR Optimization Passes are enabled (registered 2)\n"
     ]
    },
    {
     "name": "stdout",
     "output_type": "stream",
     "text": [
      "264/264 [==============================] - 5s 9ms/step - loss: 29.1250 - mean_squared_error: 28.9998 - val_loss: 23.4363 - val_mean_squared_error: 23.1540\n",
      "Epoch 2/30\n",
      "264/264 [==============================] - 2s 6ms/step - loss: 19.5527 - mean_squared_error: 19.0428 - val_loss: 16.1641 - val_mean_squared_error: 15.5812\n",
      "Epoch 3/30\n",
      "264/264 [==============================] - 2s 6ms/step - loss: 15.3188 - mean_squared_error: 14.6293 - val_loss: 13.3744 - val_mean_squared_error: 12.5177\n",
      "Epoch 4/30\n",
      "264/264 [==============================] - 2s 6ms/step - loss: 12.8320 - mean_squared_error: 12.1069 - val_loss: 11.1112 - val_mean_squared_error: 10.3828\n",
      "Epoch 5/30\n",
      "264/264 [==============================] - 2s 6ms/step - loss: 11.5271 - mean_squared_error: 10.7678 - val_loss: 11.4585 - val_mean_squared_error: 10.7950\n",
      "Epoch 6/30\n",
      "264/264 [==============================] - 2s 7ms/step - loss: 11.3694 - mean_squared_error: 10.8211 - val_loss: 11.3275 - val_mean_squared_error: 10.6638\n",
      "Epoch 7/30\n",
      "264/264 [==============================] - 2s 6ms/step - loss: 10.4064 - mean_squared_error: 9.7958 - val_loss: 10.8247 - val_mean_squared_error: 10.3525\n",
      "Epoch 8/30\n",
      "264/264 [==============================] - 2s 6ms/step - loss: 10.2660 - mean_squared_error: 9.7541 - val_loss: 10.7383 - val_mean_squared_error: 10.2385\n",
      "Epoch 9/30\n",
      "264/264 [==============================] - 2s 6ms/step - loss: 10.0020 - mean_squared_error: 9.5055 - val_loss: 10.8574 - val_mean_squared_error: 10.5093\n",
      "Epoch 10/30\n",
      "264/264 [==============================] - 2s 7ms/step - loss: 10.0129 - mean_squared_error: 9.5087 - val_loss: 9.2222 - val_mean_squared_error: 8.5543\n",
      "Epoch 11/30\n",
      "264/264 [==============================] - 2s 7ms/step - loss: 9.5307 - mean_squared_error: 8.9951 - val_loss: 9.1610 - val_mean_squared_error: 8.7155\n",
      "Epoch 12/30\n",
      "264/264 [==============================] - 2s 6ms/step - loss: 9.6292 - mean_squared_error: 9.1053 - val_loss: 8.8198 - val_mean_squared_error: 8.3374\n",
      "Epoch 13/30\n",
      "264/264 [==============================] - 2s 6ms/step - loss: 8.9968 - mean_squared_error: 8.5766 - val_loss: 9.2947 - val_mean_squared_error: 8.7926\n",
      "Epoch 14/30\n",
      "264/264 [==============================] - 2s 6ms/step - loss: 9.1391 - mean_squared_error: 8.6733 - val_loss: 8.8326 - val_mean_squared_error: 8.3392\n",
      "Epoch 15/30\n",
      "264/264 [==============================] - 2s 6ms/step - loss: 8.7534 - mean_squared_error: 8.2554 - val_loss: 8.9041 - val_mean_squared_error: 8.4431\n",
      "Epoch 16/30\n",
      "264/264 [==============================] - 2s 6ms/step - loss: 8.8544 - mean_squared_error: 8.3858 - val_loss: 9.5884 - val_mean_squared_error: 9.2232\n",
      "Epoch 17/30\n",
      "264/264 [==============================] - 2s 7ms/step - loss: 8.3624 - mean_squared_error: 7.8030 - val_loss: 9.1675 - val_mean_squared_error: 8.6144\n",
      "Epoch 18/30\n",
      "264/264 [==============================] - 2s 7ms/step - loss: 8.3466 - mean_squared_error: 7.9071 - val_loss: 8.6011 - val_mean_squared_error: 8.1743\n",
      "Epoch 19/30\n",
      "264/264 [==============================] - 2s 7ms/step - loss: 8.4809 - mean_squared_error: 8.0894 - val_loss: 8.8124 - val_mean_squared_error: 8.4229\n",
      "Epoch 20/30\n",
      "264/264 [==============================] - 2s 6ms/step - loss: 8.2209 - mean_squared_error: 7.8275 - val_loss: 8.8574 - val_mean_squared_error: 8.2744\n",
      "Epoch 21/30\n",
      "264/264 [==============================] - 2s 6ms/step - loss: 8.2477 - mean_squared_error: 7.7586 - val_loss: 8.0300 - val_mean_squared_error: 7.7468\n",
      "Epoch 22/30\n",
      "264/264 [==============================] - 2s 7ms/step - loss: 8.2274 - mean_squared_error: 7.8435 - val_loss: 8.3006 - val_mean_squared_error: 7.9641\n",
      "Epoch 23/30\n",
      "264/264 [==============================] - 2s 8ms/step - loss: 8.1440 - mean_squared_error: 7.6958 - val_loss: 8.4289 - val_mean_squared_error: 8.0288\n",
      "Epoch 24/30\n",
      "264/264 [==============================] - 3s 8ms/step - loss: 8.1472 - mean_squared_error: 7.7250 - val_loss: 8.3716 - val_mean_squared_error: 8.0273\n",
      "Epoch 25/30\n",
      "264/264 [==============================] - 3s 9ms/step - loss: 8.1058 - mean_squared_error: 7.7243 - val_loss: 8.0050 - val_mean_squared_error: 7.5700\n",
      "Epoch 26/30\n",
      "264/264 [==============================] - 3s 8ms/step - loss: 7.9976 - mean_squared_error: 7.5731 - val_loss: 8.0912 - val_mean_squared_error: 7.6599\n",
      "Epoch 27/30\n",
      "264/264 [==============================] - 2s 8ms/step - loss: 7.9674 - mean_squared_error: 7.5440 - val_loss: 7.8991 - val_mean_squared_error: 7.5382\n",
      "Epoch 28/30\n",
      "264/264 [==============================] - 3s 8ms/step - loss: 7.9397 - mean_squared_error: 7.5907 - val_loss: 7.9681 - val_mean_squared_error: 7.4171\n",
      "Epoch 29/30\n",
      "264/264 [==============================] - 3s 9ms/step - loss: 7.7759 - mean_squared_error: 7.3548 - val_loss: 8.2532 - val_mean_squared_error: 7.8650\n",
      "Epoch 30/30\n",
      "264/264 [==============================] - 3s 8ms/step - loss: 7.8904 - mean_squared_error: 7.4975 - val_loss: 8.0517 - val_mean_squared_error: 7.6922\n"
     ]
    },
    {
     "data": {
      "image/png": "[encoded data removed]",
      "text/plain": [
       "<Figure size 1440x504 with 2 Axes>"
      ]
     },
     "metadata": {
      "needs_background": "light"
     },
     "output_type": "display_data"
    }
   ],
   "source": [
    "diabetes_model, history = build_diabetes_model(diabetes_train_ds, diabetes_val_ds, claim_feature_layer, epochs=30)"
   ]
  },
  {
   "cell_type": "markdown",
   "metadata": {},
   "source": [
    "## Show Model Uncertainty Range with TF Probability\n",
    "\n",
    "**Question 9**: Now that we have trained a model with TF Probability layers, we can extract the mean and standard deviation for each prediction. Please fill in the answer for the *m* and *s* variables below. The code for getting the predictions is provided for you below."
   ]
  },
  {
   "cell_type": "code",
   "execution_count": 21,
   "metadata": {},
   "outputs": [],
   "source": [
    "feature_list = student_categorical_col_list + student_numerical_col_list\n",
    "diabetes_x_tst = dict(d_test[feature_list])\n",
    "diabetes_yhat = diabetes_model(diabetes_x_tst)\n",
    "preds = diabetes_model.predict(diabetes_test_ds);"
   ]
  },
  {
   "cell_type": "code",
   "execution_count": 22,
   "metadata": {},
   "outputs": [],
   "source": [
    "from utils.student_utils import get_mean_std_from_preds\n",
    "m, s = get_mean_std_from_preds(diabetes_yhat)"
   ]
  },
  {
   "cell_type": "markdown",
   "metadata": {},
   "source": [
    "### Show prediction output"
   ]
  },
  {
   "cell_type": "code",
   "execution_count": 23,
   "metadata": {},
   "outputs": [],
   "source": [
    "prob_outputs = {\"pred\": preds.flatten(),\n",
    "                \"actual_value\": d_test['time_in_hospital'].values,\n",
    "                \"pred_mean\": m.numpy().flatten(),\n",
    "                \"pred_std\": s.numpy().flatten()}\n",
    "\n",
    "prob_output_df = pd.DataFrame(prob_outputs)"
   ]
  },
  {
   "cell_type": "code",
   "execution_count": 24,
   "metadata": {},
   "outputs": [
    {
     "data": {
      "text/html": [
       "<div>\n",
       "<style scoped>\n",
       "    .dataframe tbody tr th:only-of-type {\n",
       "        vertical-align: middle;\n",
       "    }\n",
       "\n",
       "    .dataframe tbody tr th {\n",
       "        vertical-align: top;\n",
       "    }\n",
       "\n",
       "    .dataframe thead th {\n",
       "        text-align: right;\n",
       "    }\n",
       "</style>\n",
       "<table border=\"1\" class=\"dataframe\">\n",
       "  <thead>\n",
       "    <tr style=\"text-align: right;\">\n",
       "      <th></th>\n",
       "      <th>pred</th>\n",
       "      <th>actual_value</th>\n",
       "      <th>pred_mean</th>\n",
       "      <th>pred_std</th>\n",
       "    </tr>\n",
       "  </thead>\n",
       "  <tbody>\n",
       "    <tr>\n",
       "      <th>0</th>\n",
       "      <td>2.405511</td>\n",
       "      <td>1.0</td>\n",
       "      <td>2.388775</td>\n",
       "      <td>0.701767</td>\n",
       "    </tr>\n",
       "    <tr>\n",
       "      <th>1</th>\n",
       "      <td>1.651800</td>\n",
       "      <td>3.0</td>\n",
       "      <td>2.817256</td>\n",
       "      <td>0.699634</td>\n",
       "    </tr>\n",
       "    <tr>\n",
       "      <th>2</th>\n",
       "      <td>4.650952</td>\n",
       "      <td>5.0</td>\n",
       "      <td>5.300058</td>\n",
       "      <td>0.700955</td>\n",
       "    </tr>\n",
       "    <tr>\n",
       "      <th>3</th>\n",
       "      <td>1.450381</td>\n",
       "      <td>2.0</td>\n",
       "      <td>5.040493</td>\n",
       "      <td>0.700378</td>\n",
       "    </tr>\n",
       "    <tr>\n",
       "      <th>4</th>\n",
       "      <td>1.961758</td>\n",
       "      <td>3.0</td>\n",
       "      <td>3.226540</td>\n",
       "      <td>0.700114</td>\n",
       "    </tr>\n",
       "  </tbody>\n",
       "</table>\n",
       "</div>"
      ],
      "text/plain": [
       "       pred  actual_value  pred_mean  pred_std\n",
       "0  2.405511           1.0   2.388775  0.701767\n",
       "1  1.651800           3.0   2.817256  0.699634\n",
       "2  4.650952           5.0   5.300058  0.700955\n",
       "3  1.450381           2.0   5.040493  0.700378\n",
       "4  1.961758           3.0   3.226540  0.700114"
      ]
     },
     "execution_count": 24,
     "metadata": {},
     "output_type": "execute_result"
    }
   ],
   "source": [
    "prob_output_df.head()"
   ]
  },
  {
   "cell_type": "markdown",
   "metadata": {},
   "source": [
    "## Convert Regression Output to Classification Output for Patient Selection\n",
    "\n",
    "**Question 10**: Given the output predictions, convert it to a binary label for whether the patient meets the time criteria or does not (HINT: use the mean prediction numpy array). The expected output is a numpy array with a 1 or 0 based off if the prediction meets or doesnt meet the criteria."
   ]
  },
  {
   "cell_type": "code",
   "execution_count": 25,
   "metadata": {},
   "outputs": [],
   "source": [
    "from utils.student_utils import get_student_binary_prediction\n",
    "student_binary_prediction = get_student_binary_prediction(prob_output_df, 'pred_mean')"
   ]
  },
  {
   "cell_type": "markdown",
   "metadata": {},
   "source": [
    "### Add Binary Prediction to Test Dataframe\n",
    "\n",
    "Using the student_binary_prediction output that is a numpy array with binary labels, we can use this to add to a dataframe to better visualize and also to prepare the data for the Aequitas toolkit. The Aequitas toolkit requires that the predictions be mapped to a binary label for the predictions (called 'score' field) and the actual value (called 'label_value')."
   ]
  },
  {
   "cell_type": "code",
   "execution_count": 26,
   "metadata": {},
   "outputs": [],
   "source": [
    "def add_pred_to_test(test_df, pred_np, demo_col_list):\n",
    "    for c in demo_col_list:\n",
    "        test_df[c] = test_df[c].astype(str)\n",
    "    test_df['score'] = pred_np\n",
    "    test_df['label_value'] = test_df['time_in_hospital'].apply(lambda x: 1 if x >=5 else 0)\n",
    "    return test_df\n",
    "\n",
    "pred_test_df = add_pred_to_test(d_test, student_binary_prediction, ['race', 'gender'])"
   ]
  },
  {
   "cell_type": "code",
   "execution_count": 27,
   "metadata": {},
   "outputs": [
    {
     "data": {
      "text/html": [
       "<div>\n",
       "<style scoped>\n",
       "    .dataframe tbody tr th:only-of-type {\n",
       "        vertical-align: middle;\n",
       "    }\n",
       "\n",
       "    .dataframe tbody tr th {\n",
       "        vertical-align: top;\n",
       "    }\n",
       "\n",
       "    .dataframe thead th {\n",
       "        text-align: right;\n",
       "    }\n",
       "</style>\n",
       "<table border=\"1\" class=\"dataframe\">\n",
       "  <thead>\n",
       "    <tr style=\"text-align: right;\">\n",
       "      <th></th>\n",
       "      <th>patient_nbr</th>\n",
       "      <th>gender</th>\n",
       "      <th>race</th>\n",
       "      <th>time_in_hospital</th>\n",
       "      <th>score</th>\n",
       "      <th>label_value</th>\n",
       "    </tr>\n",
       "  </thead>\n",
       "  <tbody>\n",
       "    <tr>\n",
       "      <th>0</th>\n",
       "      <td>49726791</td>\n",
       "      <td>Female</td>\n",
       "      <td>AfricanAmerican</td>\n",
       "      <td>1.0</td>\n",
       "      <td>0</td>\n",
       "      <td>0</td>\n",
       "    </tr>\n",
       "    <tr>\n",
       "      <th>1</th>\n",
       "      <td>108662661</td>\n",
       "      <td>Female</td>\n",
       "      <td>Caucasian</td>\n",
       "      <td>3.0</td>\n",
       "      <td>0</td>\n",
       "      <td>0</td>\n",
       "    </tr>\n",
       "    <tr>\n",
       "      <th>2</th>\n",
       "      <td>107389323</td>\n",
       "      <td>Male</td>\n",
       "      <td>AfricanAmerican</td>\n",
       "      <td>5.0</td>\n",
       "      <td>1</td>\n",
       "      <td>1</td>\n",
       "    </tr>\n",
       "    <tr>\n",
       "      <th>3</th>\n",
       "      <td>22864131</td>\n",
       "      <td>Female</td>\n",
       "      <td>?</td>\n",
       "      <td>2.0</td>\n",
       "      <td>1</td>\n",
       "      <td>0</td>\n",
       "    </tr>\n",
       "    <tr>\n",
       "      <th>4</th>\n",
       "      <td>62718876</td>\n",
       "      <td>Female</td>\n",
       "      <td>AfricanAmerican</td>\n",
       "      <td>3.0</td>\n",
       "      <td>0</td>\n",
       "      <td>0</td>\n",
       "    </tr>\n",
       "  </tbody>\n",
       "</table>\n",
       "</div>"
      ],
      "text/plain": [
       "   patient_nbr  gender             race  time_in_hospital  score  label_value\n",
       "0     49726791  Female  AfricanAmerican               1.0      0            0\n",
       "1    108662661  Female        Caucasian               3.0      0            0\n",
       "2    107389323    Male  AfricanAmerican               5.0      1            1\n",
       "3     22864131  Female                ?               2.0      1            0\n",
       "4     62718876  Female  AfricanAmerican               3.0      0            0"
      ]
     },
     "execution_count": 27,
     "metadata": {},
     "output_type": "execute_result"
    }
   ],
   "source": [
    "pred_test_df[['patient_nbr', 'gender', 'race', 'time_in_hospital', 'score', 'label_value']].head()"
   ]
  },
  {
   "cell_type": "markdown",
   "metadata": {},
   "source": [
    "## Model Evaluation Metrics\n",
    "\n",
    "**Question 11**: Now it is time to use the newly created binary labels in the 'pred_test_df' dataframe to evaluate the model with some common classification metrics. Please create a report summary of the performance of the model and be sure to give the ROC AUC, F1 score (weighted), class precision and recall scores. \n",
    "\n",
    "For the report please be sure to include the following three parts:\n",
    "- With a non-technical audience in mind, explain the precision-recall tradeoff in regard to how you have optimized your model.\n",
    "\n",
    "- What are some areas of improvement for future iterations?"
   ]
  },
  {
   "cell_type": "code",
   "execution_count": 28,
   "metadata": {},
   "outputs": [],
   "source": [
    "def classification_metrics(pred_test_df):\n",
    "    print('Precision ', round(precision_score(pred_test_df['label_value'], pred_test_df['score']),3))\n",
    "    print('Recall ', round(recall_score(pred_test_df['label_value'], pred_test_df['score']),3))\n",
    "    print('F1 Score ', round(f1_score(pred_test_df['label_value'], pred_test_df['score'], average='weighted'),3))\n",
    "    print('ROC AUC ', round(roc_auc_score(pred_test_df['label_value'], pred_test_df['score']),3))"
   ]
  },
  {
   "cell_type": "markdown",
   "metadata": {},
   "source": [
    "**Summary**"
   ]
  },
  {
   "cell_type": "code",
   "execution_count": 29,
   "metadata": {},
   "outputs": [
    {
     "name": "stdout",
     "output_type": "stream",
     "text": [
      "Precision  0.745\n",
      "Recall  0.469\n",
      "F1 Score  0.716\n",
      "ROC AUC  0.684\n"
     ]
    }
   ],
   "source": [
    "classification_metrics(pred_test_df)"
   ]
  },
  {
   "cell_type": "markdown",
   "metadata": {},
   "source": [
    "It is very challenging to have both precision and recall high at the same time. If we optimize the model to have high precision, most likely the recal will decrease. High precision means that most of our predictions of class 1 are correct, while high recall means that we correctly predicted as one class 1 most of true instances of that class. Precision-recall trade-off is the choice of minimizing either False Positives (FP) or False Negatives (FN):\n",
    "\n",
    "![](images/precision-recall.png)\n",
    "\n",
    "True Positive (TP) is the patient who stayed at the hospital at least 5 days and the model correctly predicted that. FP is the patient who stayed less than 5 days, but the model predicted that he stayed more than 5 days. FN is the oposite of FP - the patient who stayed longer than 5 days, but our model predicted that he stayed less than 5 days.\n",
    "\n",
    "In this project, we would rather have high precision. We want to have low False Positives rate so that we administer the drug only to patients who stay at the hospital longer than 5 days, so that the administration of the drug is justified and meaningful. We care less about False Negatives - if we miss the patient who stays more than 5 days, we may just wait for another patient and it is less severe than starting aministering the drug to the person who leaves the hospital too soon.\n",
    "\n",
    "Areas of improvement for future iterations may include lowering False Negatives - we would miss less patients who are eligible and the trial of the drug could have been shorter (or if the timelines are fixed we could have more patients tested)."
   ]
  },
  {
   "cell_type": "markdown",
   "metadata": {},
   "source": [
    "## Evaluating Potential Model Biases with Aequitas Toolkit\n",
    "\n",
    "### Prepare Data For Aequitas Bias Toolkit\n",
    "\n",
    "Using the gender and race fields, we will prepare the data for the Aequitas Toolkit."
   ]
  },
  {
   "cell_type": "code",
   "execution_count": 30,
   "metadata": {},
   "outputs": [
    {
     "name": "stderr",
     "output_type": "stream",
     "text": [
      "/home/marta/anaconda3/lib/python3.7/site-packages/pandas/core/indexing.py:1676: SettingWithCopyWarning: \n",
      "A value is trying to be set on a copy of a slice from a DataFrame.\n",
      "Try using .loc[row_indexer,col_indexer] = value instead\n",
      "\n",
      "See the caveats in the documentation: https://pandas.pydata.org/pandas-docs/stable/user_guide/indexing.html#returning-a-view-versus-a-copy\n",
      "  self._setitem_single_column(ilocs[0], value, pi)\n"
     ]
    }
   ],
   "source": [
    "from aequitas.preprocessing import preprocess_input_df\n",
    "from aequitas.group import Group\n",
    "from aequitas.plotting import Plot\n",
    "from aequitas.bias import Bias\n",
    "from aequitas.fairness import Fairness\n",
    "\n",
    "ae_subset_df = pred_test_df[['race', 'gender', 'score', 'label_value']]\n",
    "ae_df, _ = preprocess_input_df(ae_subset_df)\n",
    "g = Group()\n",
    "xtab, _ = g.get_crosstabs(ae_df)\n",
    "absolute_metrics = g.list_absolute_metrics(xtab)\n",
    "clean_xtab = xtab.fillna(-1)\n",
    "aqp = Plot()\n",
    "b = Bias()"
   ]
  },
  {
   "cell_type": "markdown",
   "metadata": {},
   "source": [
    "### Reference Group Selection\n",
    "\n",
    "Below we have chosen the reference group for our analysis but feel free to select another one."
   ]
  },
  {
   "cell_type": "code",
   "execution_count": 31,
   "metadata": {},
   "outputs": [
    {
     "name": "stdout",
     "output_type": "stream",
     "text": [
      "get_disparity_predefined_group()\n"
     ]
    }
   ],
   "source": [
    "# test reference group with Caucasian Male\n",
    "bdf = b.get_disparity_predefined_groups(clean_xtab, \n",
    "                                        original_df=ae_df, \n",
    "                                        ref_groups_dict={'race':'Caucasian', 'gender':'Male'},\n",
    "                                        alpha=0.05, \n",
    "                                        check_significance=False)\n",
    "\n",
    "f = Fairness()\n",
    "fdf = f.get_group_value_fairness(bdf)"
   ]
  },
  {
   "cell_type": "markdown",
   "metadata": {},
   "source": [
    "### Race and Gender Bias Analysis for Patient Selection\n",
    "\n",
    "**Question 12**: For the gender and race fields, please plot two metrics that are important for patient selection below and state whether there is a significant bias in your model across any of the groups along with justification for your statement."
   ]
  },
  {
   "cell_type": "code",
   "execution_count": 32,
   "metadata": {},
   "outputs": [
    {
     "data": {
      "image/png": "[encoded data removed]",
      "text/plain": [
       "<Figure size 360x288 with 2 Axes>"
      ]
     },
     "metadata": {
      "needs_background": "light"
     },
     "output_type": "display_data"
    }
   ],
   "source": [
    "# Plot two metrics\n",
    "\n",
    "# Is there significant bias in your model for either race or gender?\n",
    "\n",
    "fpr_disparity = aqp.plot_disparity(bdf, group_metric='fpr_disparity', attribute_name='race')"
   ]
  },
  {
   "cell_type": "code",
   "execution_count": 33,
   "metadata": {},
   "outputs": [
    {
     "data": {
      "image/png": "[encoded data removed]",
      "text/plain": [
       "<Figure size 360x288 with 2 Axes>"
      ]
     },
     "metadata": {
      "needs_background": "light"
     },
     "output_type": "display_data"
    }
   ],
   "source": [
    "tpr_disparity = aqp.plot_disparity(bdf, group_metric='tpr_disparity', attribute_name='race')"
   ]
  },
  {
   "cell_type": "markdown",
   "metadata": {},
   "source": [
    "There is a bias towards Asian race in both False Positives Rate and True Positives Rate to the reference group - Caucasian. The ratios of Asian FPR and TPR compared to the reference group are low. Also, in case of FPR we see some bias toward other races as well - the ratios are < 0.8 compared to the reference group."
   ]
  },
  {
   "cell_type": "code",
   "execution_count": 34,
   "metadata": {},
   "outputs": [
    {
     "data": {
      "image/png": "[encoded data removed]",
      "text/plain": [
       "<Figure size 360x288 with 2 Axes>"
      ]
     },
     "metadata": {
      "needs_background": "light"
     },
     "output_type": "display_data"
    }
   ],
   "source": [
    "fpr_disparity = aqp.plot_disparity(bdf, group_metric='fpr_disparity', attribute_name='gender')"
   ]
  },
  {
   "cell_type": "code",
   "execution_count": 35,
   "metadata": {},
   "outputs": [
    {
     "data": {
      "image/png": "[encoded data removed]",
      "text/plain": [
       "<Figure size 360x288 with 2 Axes>"
      ]
     },
     "metadata": {
      "needs_background": "light"
     },
     "output_type": "display_data"
    }
   ],
   "source": [
    "tpr_disparity = aqp.plot_disparity(bdf, group_metric='tpr_disparity', attribute_name='gender')"
   ]
  },
  {
   "cell_type": "markdown",
   "metadata": {},
   "source": [
    "There is no significant bias in regard to gender. Both genders have similar ratios."
   ]
  },
  {
   "cell_type": "markdown",
   "metadata": {},
   "source": [
    "### Fairness Analysis Example - Relative to a Reference Group\n",
    "\n",
    "**Question 13**: Earlier we defined our reference group and then calculated disparity metrics relative to this grouping. Please provide a visualization of the fairness evaluation for this reference group and analyze whether there is disparity."
   ]
  },
  {
   "cell_type": "code",
   "execution_count": 36,
   "metadata": {},
   "outputs": [
    {
     "data": {
      "image/png": "[encoded data removed]",
      "text/plain": [
       "<Figure size 720x360 with 1 Axes>"
      ]
     },
     "metadata": {
      "needs_background": "light"
     },
     "output_type": "display_data"
    }
   ],
   "source": [
    "# Reference group fairness plot\n",
    "\n",
    "fpr_fairness = aqp.plot_fairness_group(fdf, group_metric='fpr', title=True)"
   ]
  },
  {
   "cell_type": "code",
   "execution_count": 37,
   "metadata": {},
   "outputs": [
    {
     "data": {
      "image/png": "[encoded data removed]",
      "text/plain": [
       "<Figure size 720x360 with 1 Axes>"
      ]
     },
     "metadata": {
      "needs_background": "light"
     },
     "output_type": "display_data"
    }
   ],
   "source": [
    "tpr_fairness = aqp.plot_fairness_group(fdf, group_metric='tpr', title=True)"
   ]
  },
  {
   "cell_type": "markdown",
   "metadata": {},
   "source": [
    "We see that there is some unfairness for Asian and Hispanic race in regard to False Positive Rate and True Positive Rate. Also, in regard to FPR unknown race also face some unfairness."
   ]
  },
  {
   "cell_type": "code",
   "execution_count": null,
   "metadata": {},
   "outputs": [],
   "source": []
  }
 ],
 "metadata": {
  "kernelspec": {
   "display_name": "Python 3 (ipykernel)",
   "language": "python",
   "name": "python3"
  },
  "language_info": {
   "codemirror_mode": {
    "name": "ipython",
    "version": 3
   },
   "file_extension": ".py",
   "mimetype": "text/x-python",
   "name": "python",
   "nbconvert_exporter": "python",
   "pygments_lexer": "ipython3",
   "version": "3.7.4"
  }
 },
 "nbformat": 4,
 "nbformat_minor": 4
}
